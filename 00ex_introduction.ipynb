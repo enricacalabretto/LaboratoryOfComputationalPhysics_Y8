{
 "cells": [
  {
   "cell_type": "markdown",
   "metadata": {},
   "source": [
    "1. The MickeyMouse problem\n",
    "\n",
    "a) Write a program that prints the numbers from 1 to 100. But for multiples of 3 print `Mickey` instead of the corresponding number and for the multiples of 5 print `Mouse`. For numbers which are multiples of both three and five print `MickeyMouse`\n",
    "\n",
    "b) Put the result in a tuple and substitute `Mickey` with `Donald` and `Mouse` with `Duck`"
   ]
  },
  {
   "cell_type": "code",
   "execution_count": null,
   "metadata": {},
   "outputs": [],
   "source": [
    "i=1 \n",
    "lista=[]\n",
    "\n",
    "while i<=100:\n",
    "    if i%15==0 :\n",
    "        print('MickeyMouse')\n",
    "        lista.append('MickeyMouse')\n",
    "    elif i%3==0:\n",
    "        print('Mickey')\n",
    "        lista.append('Donald')\n",
    "    elif i%5==0:\n",
    "        print('Mouse')\n",
    "        lista.append('Duck')\n",
    "    else:\n",
    "        print(i)\n",
    "        lista.append(i)\n",
    "    i+=1\n",
    "\n",
    "tupla=tuple(lista)\n",
    "print(tupla, type(tupla))"
   ]
  },
  {
   "cell_type": "markdown",
   "metadata": {},
   "source": [
    "2\\. The swap function\n",
    "\n",
    "Write a function that swap the values of two input variables x and y (whatever the type). Try to do that also without a temporary variable"
   ]
  },
  {
   "cell_type": "code",
   "execution_count": null,
   "metadata": {},
   "outputs": [],
   "source": [
    "def funzione(x=input('x='), y=input('y=')):\n",
    "    z=x\n",
    "    x=y\n",
    "    y=z\n",
    "    print('x=',x,'y=',y)\n",
    "funzione()\n",
    "\n",
    "a=input('a=')\n",
    "b=input('b=')\n",
    "def func(a, b):\n",
    "    return b,a #sbagliato da rivedere forse \n",
    "\n",
    "#altrimenti:\n",
    "\n",
    "def swap(a,b):\n",
    "    a, b= b,a \n",
    "    return a, b\n",
    "\n",
    "swap(2,3)"
   ]
  },
  {
   "cell_type": "markdown",
   "metadata": {},
   "source": [
    "3\\. Computing the distance\n",
    "\n",
    "Write a function that calculates and returns the euclidean distance between two points *u* and *v*, where *u* and *v* are both 2-tuples *(x,y)*. For example, if *u=(3,0)* and *v=(0,4)*, the function should return 5"
   ]
  },
  {
   "cell_type": "code",
   "execution_count": 10,
   "metadata": {},
   "outputs": [
    {
     "data": {
      "text/plain": [
       "5.0"
      ]
     },
     "execution_count": 10,
     "metadata": {},
     "output_type": "execute_result"
    }
   ],
   "source": [
    "import math as np\n",
    "\n",
    "def funzione(u, v):\n",
    "    dist= np.sqrt (( u[0]-v[0])**2 +(u[1]-v[1])**2)\n",
    "    return dist \n",
    "\n",
    "funzione((3,0), (0,4))"
   ]
  },
  {
   "cell_type": "markdown",
   "metadata": {},
   "source": [
    "4\\. Counting letters\n",
    "\n",
    "Write a program to calculate the number of times each character occurs in a given string *s*. Ignore differneces in capitalization"
   ]
  },
  {
   "cell_type": "code",
   "execution_count": 11,
   "metadata": {},
   "outputs": [
    {
     "name": "stdout",
     "output_type": "stream",
     "text": [
      "a: 7\n",
      "b: 5\n",
      "c: 3\n",
      "d: 3\n",
      "e: 22\n",
      "f: 10\n",
      "g: 1\n",
      "h: 9\n",
      "i: 14\n",
      "k: 2\n",
      "l: 6\n",
      "m: 12\n",
      "n: 10\n",
      "o: 13\n",
      "p: 8\n",
      "r: 17\n",
      "s: 9\n",
      "t: 19\n",
      "u: 9\n",
      "v: 2\n",
      "w: 2\n",
      "y: 2\n"
     ]
    }
   ],
   "source": [
    "s=\"Write a program that prints the numbers from 1 to 100. \\\n",
    "But for multiples of three print Mickey instead of the number and for the multiples of five print Mouse. \\\n",
    "For numbers which are multiples of both three and five print MickeyMouse\"\n",
    "\n",
    "s=s.lower()\n",
    "\n",
    "counts={}\n",
    "\n",
    "for ch in s:\n",
    "    if ch.isalpha(): #toglie gli spazi\n",
    "        counts[ch]=counts.get(ch, 0) +1\n",
    "        \n",
    "for ch in sorted(counts):\n",
    "    print(f\"{ch}: {counts[ch]}\")"
   ]
  },
  {
   "cell_type": "markdown",
   "metadata": {},
   "source": [
    "5\\. Isolating the unique\n",
    "\n",
    "Write a function that determines and count the unique numbers in the list *l*"
   ]
  },
  {
   "cell_type": "code",
   "execution_count": 13,
   "metadata": {},
   "outputs": [
    {
     "name": "stdout",
     "output_type": "stream",
     "text": [
      "numeri unici: [58, 74, 96, 64, 10, 24, 19, 33, 86, 99, 18, 47, 88, 55, 54, 8, 79, 81, 57, 37, 1, 9, 95, 90, 98, 39, 16, 82, 92, 41, 30, 94, 5, 72, 87, 75, 53]\n",
      "totale numeri unici: 37\n"
     ]
    }
   ],
   "source": [
    "l = [36, 45, 58, 3, 74, 96, 64, 45, 31, 10, 24, 19, 33, 86, 99, 18, 63, 70, 85,\n",
    " 85, 63, 47, 56, 42, 70, 84, 88, 55, 20, 54, 8, 56, 51, 79, 81, 57, 37, 91,\n",
    " 1, 84, 84, 36, 66, 9, 89, 50, 42, 91, 50, 95, 90, 98, 39, 16, 82, 31, 92, 41,\n",
    " 45, 30, 66, 70, 34, 85, 94, 5, 3, 36, 72, 91, 84, 34, 87, 75, 53, 51, 20, 89, 51, 20]\n",
    "\n",
    "def valori_unici(l):\n",
    "    valori_unici=[]\n",
    "    for i in l:\n",
    "        if l.count(i)==1:\n",
    "            valori_unici.append(i)\n",
    "    count= len (valori_unici)\n",
    "    return valori_unici, count\n",
    "    \n",
    "numeri_unici, totale= valori_unici(l)\n",
    "\n",
    "print('numeri unici:', numeri_unici)\n",
    "print('totale numeri unici:', totale)    #da controllare meglio"
   ]
  },
  {
   "cell_type": "markdown",
   "metadata": {},
   "source": [
    "6\\. Combination of functions\n",
    "\n",
    "Write two functions - one that returns the square of a number, and one that returns the cube. Now write a third function that returns the number raised to the 6th power using the two previous functions."
   ]
  },
  {
   "cell_type": "code",
   "execution_count": null,
   "metadata": {},
   "outputs": [],
   "source": [
    "n1=int(input('scrivi un numero'))\n",
    "\n",
    "\n",
    "def quadrato(n1):\n",
    "    quad= n1**2 \n",
    "    return quad\n",
    "\n",
    "print(f'il quadrato di {n1} è', quadrato(n1))\n",
    "\n",
    "n2=int(input('scrivi un numero per fare il cubo'))\n",
    "\n",
    "def cubo(n2):\n",
    "    cubo= n2**3\n",
    "    return cubo \n",
    "\n",
    "\n",
    "print( f'il cubo di {n2} è', cubo(n2))"
   ]
  },
  {
   "cell_type": "markdown",
   "metadata": {},
   "source": [
    "7\\. Cubes\n",
    "\n",
    "Create a list of the cubes of x for x in *[0, 10]* using:\n",
    "\n",
    "a) a for loop\n",
    "\n",
    "b) a list comprehension"
   ]
  },
  {
   "cell_type": "code",
   "execution_count": null,
   "metadata": {},
   "outputs": [],
   "source": [
    "lista=[]\n",
    "for x in [0,1,2,3,4,5,6,7,8,9,10]:\n",
    "    cubi= x**3\n",
    "    lista.append(cubi)\n",
    "    \n",
    "print(lista)"
   ]
  },
  {
   "cell_type": "code",
   "execution_count": null,
   "metadata": {},
   "outputs": [],
   "source": [
    "lista_cubi= [x**3 for x in range(11)]\n",
    "print( lista_cubi)"
   ]
  },
  {
   "cell_type": "markdown",
   "metadata": {},
   "source": [
    "8\\. Nested list comprehension\n",
    "\n",
    "A Pythagorean triple is an integer solution to the Pythagorean theorem $a^2+b^2=c^2$. The first Pythagorean triple is (3,4,5). Find and put in a tuple all unique Pythagorean triples for the positive integers a, b and c less than 100."
   ]
  },
  {
   "cell_type": "code",
   "execution_count": null,
   "metadata": {},
   "outputs": [],
   "source": [
    "pythagorean_triples=[]\n",
    "for a in range(1,100):\n",
    "    for b in range(1,100):\n",
    "        for c in range(1,100):\n",
    "            if a**2+b**2==c**2:\n",
    "                pythagorean_triples.append((a, b, c))\n",
    "\n",
    "pythagorean_triples= tuple( pythagorean_triples)\n",
    "print( pythagorean_triples)"
   ]
  },
  {
   "cell_type": "markdown",
   "metadata": {},
   "source": [
    "9\\. Normalization\n",
    "\n",
    "Write a function that takes a tuple of numbers and returns it with the entries normalized to one"
   ]
  },
  {
   "cell_type": "code",
   "execution_count": null,
   "metadata": {},
   "outputs": [],
   "source": [
    "import numpy as np\n",
    "def normalize(tupla):\n",
    "    s= np.sum(tupla) \n",
    "    lista= []\n",
    "    for x in tupla:\n",
    "        norm= x/s \n",
    "        lista.append(norm)\n",
    "    \n",
    "    return tuple(lista) \n",
    "\n",
    "tupla=((2,3,4))\n",
    "print(f'{normalize(tupla)}')"
   ]
  }
 ],
 "metadata": {
  "kernelspec": {
   "display_name": "Python [conda env:base] *",
   "language": "python",
   "name": "conda-base-py"
  },
  "language_info": {
   "codemirror_mode": {
    "name": "ipython",
    "version": 3
   },
   "file_extension": ".py",
   "mimetype": "text/x-python",
   "name": "python",
   "nbconvert_exporter": "python",
   "pygments_lexer": "ipython3",
   "version": "3.13.5"
  }
 },
 "nbformat": 4,
 "nbformat_minor": 4
}
