{
 "cells": [
  {
   "cell_type": "markdown",
   "id": "b5746bd0",
   "metadata": {},
   "source": [
    "The following exercises are meant to be solved by gathering the bash commands incrimentally in two scripts, one for ex 1.* the other for ex 2.* "
   ]
  },
  {
   "cell_type": "markdown",
   "id": "4e60de78",
   "metadata": {},
   "source": [
    "### Ex 1"
   ]
  },
  {
   "cell_type": "markdown",
   "id": "6759df36",
   "metadata": {},
   "source": [
    "1\\.a Make a new directory called `students` in your home. Download a csv file with the list of students of this lab from [here](https://www.dropbox.com/s/867rtx3az6e9gm8/LCP_22-23_students.csv) (use the `wget` command) and copy that to `students`. First check whether the file is already there"
   ]
  },
  {
   "cell_type": "code",
   "execution_count": null,
   "id": "6e3c185d-2b84-4e28-8e63-f6fbefd3b2d7",
   "metadata": {},
   "outputs": [],
   "source": [
    "mkdir students\n",
    "wget -O data.csv \"https://www.dropbox.com/scl/fi/bxv17nrbrl83vw6qrkiu9/LCP_22-23_students.csv?rlkey=47fakvatrtif3q3qw4q97p5b7&e=1\"\n",
    "cp data.csv /Users/enri/students/  \n",
    "cd students \n",
    "ls \n",
    "#oppure \n",
    "find . -name \"data.csv\""
   ]
  },
  {
   "cell_type": "markdown",
   "id": "798c0c9d",
   "metadata": {},
   "source": [
    "1\\.b Make two new files, one containing the students belonging to PoD, the other to Physics."
   ]
  },
  {
   "cell_type": "code",
   "execution_count": null,
   "id": "88b4abc5-d628-4747-adbd-ac4aaa8a4779",
   "metadata": {},
   "outputs": [],
   "source": [
    "grep \"PoD\" data.csv > pod_students.csv \n",
    "grep \"Physics\" data.csv > physics_students.csv \n",
    "#to check if it correct:\n",
    "head pod_students.csv\n",
    "head physics_students.csv "
   ]
  },
  {
   "cell_type": "markdown",
   "id": "8a43d622",
   "metadata": {},
   "source": [
    "1\\.c For each letter of the alphabet, count the number of students whose surname starts with that letter. "
   ]
  },
  {
   "cell_type": "code",
   "execution_count": null,
   "id": "2a9adf1d-ee56-4990-b8dd-47d950d8d5c0",
   "metadata": {},
   "outputs": [],
   "source": [
    "for letter in {A..Z}; do count=$(tail -n+2 data.csv | grep -i \"^$letter\" |wc -l); \n",
    "echo \"$letter: $count\"; \n",
    "done \n",
    "#tail -n+2 permette di non considerare l'intestazione nel conto, grep prende le \n",
    "#righe che iniziano con quella lettera (-i = case insensitive )\n",
    "#wc -l te le conta , ed echo stampa il risultato"
   ]
  },
  {
   "cell_type": "markdown",
   "id": "4ba6bc90",
   "metadata": {},
   "source": [
    "1\\.d Find out which is the letter with most counts."
   ]
  },
  {
   "cell_type": "code",
   "execution_count": null,
   "id": "1978a261-cc55-45cb-8e65-e6f5a6ed97c9",
   "metadata": {},
   "outputs": [],
   "source": [
    "max_count=0; max_letter=\"\"; for letter in {A..Z}; do count=$(tail -n +2 data.csv | grep -i \"^$letter\" | wc -l); echo \"$letter: $count\"; if [ $count -gt $max_count ]; then max_count=$count; max_letter=$letter; fi; done   "
   ]
  },
  {
   "cell_type": "markdown",
   "id": "086a043c",
   "metadata": {},
   "source": [
    "1\\.e Assume an obvious numbering of the students in the file (first line is 1, second line is 2, etc.), group students \"modulo 18\", i.e. 1,19,37,.. 2,20,38,.. etc. and put each group in a separate file  "
   ]
  },
  {
   "cell_type": "code",
   "execution_count": null,
   "id": "d1959443-805c-4210-9af6-020e4ecd70e8",
   "metadata": {},
   "outputs": [],
   "source": [
    "header=$(head -n1 data.csv) #prende solo la prima riga per i file, e la salva in una variabile chiamata header \n",
    "total=$(wc -l < data.csv) #conta quante righe(-l) ci sono nel file( inclusa l'intestazione) e le salva nella variabile total, il < invia il contenuto del file a wc -l\n",
    "for group in {1..18}; do\n",
    "echo \"$header\" > \"group_${group}.csv\";  #scrive l'intestazione nel file del gruppo\n",
    "done;\n",
    "for i in $(seq 2 $total); do #genera i numeri da 2 fino all'ultima riga( non 1, perche è l'intestazione)\n",
    "line=$(sed -n \"${i}p\" data.csv); #prende solo la riga numero i dal file e la salva nella variabile line \n",
    "group=$(( (i-2) % 18 +1)); #(i-2) sempre perche sottre l'intestazione, %18 prende il resto della divisione e ci aggiunge 1, cosi che i gruppi diventino 1, 18 ecc e non 0, 17 \n",
    "outfile=\"group_${group}.csv\"; #costruisce un file per ogni gruppo: group_1.csv \n",
    "echo \"$line\" >> \"$outfile\"; #aggiunge la linea alla fine del file ( è tipo un append) senza cancellare il contenuto precedente \n",
    "done \n",
    "\n",
    "#altrimenti invece du creare il file outfile, puoi anche fare direttamente echo \"$line\" >> \"group_${group}.csv\" come vuoi "
   ]
  },
  {
   "cell_type": "markdown",
   "id": "1d730d21",
   "metadata": {},
   "source": [
    "### Ex 2"
   ]
  },
  {
   "cell_type": "markdown",
   "id": "4b87ecb7",
   "metadata": {},
   "source": [
    "2.a Make a copy of the file `data.csv` removing the metadata and the commas between numbers; call it `data.txt`"
   ]
  },
  {
   "cell_type": "code",
   "execution_count": null,
   "id": "3f02ca19-fa2f-40a1-859b-b0a51fd2a708",
   "metadata": {},
   "outputs": [],
   "source": [
    "sed '/^#/d; s/,//g' data.txt > data_clean.txt\n",
    "#le prime virgolette prendono tutti le righe che iniziano per # e con d le elimina\n",
    "#dopo di che le seconde virgolette fanno s/vecchio/nuovo/g, in questo caso sostituiscono le virgolette con il niente\n",
    "#e poi scrive il file in output in cui metterle "
   ]
  },
  {
   "cell_type": "markdown",
   "id": "344048c8",
   "metadata": {},
   "source": [
    "2\\.b How many even numbers are there?"
   ]
  },
  {
   "cell_type": "code",
   "execution_count": null,
   "id": "f26def0d-c430-4fc5-bcbe-a7a157802777",
   "metadata": {},
   "outputs": [],
   "source": [
    "count=0\n",
    "for number in $(cat data.txt);\n",
    "do if [ $((num % 2)) -eq 0 ]; \n",
    "then count=$((count +1));\n",
    "fi;\n",
    "done;\n",
    "echo \"Numero di numeri pari: $count\"\n",
    "#cat fa un sacco di cose, tra cui leggere le cose nei file come in questi caso. "
   ]
  },
  {
   "cell_type": "markdown",
   "id": "2a27138d",
   "metadata": {},
   "source": [
    "2\\.c Distinguish the entries on the basis of `sqrt(X^2 + Y^2 + Z^2)` is greater or smaller than `100*sqrt(3)/2`. Count the entries of each of the two groups "
   ]
  },
  {
   "cell_type": "code",
   "execution_count": null,
   "id": "1b224c9e-145a-4115-8218-9605b84fba94",
   "metadata": {},
   "outputs": [],
   "source": [
    "count_gt=0; count_le=0; soglia=$(echo \"100*sqrt(3)/2\" |bc -l); while read x y z rest; do r=$(echo \"sqrt($x*$x+$y*$y+$z*$z)\" | bc -l); if (( $(echo \"$r > $soglia\" | bc -l) )); then count_gt=$((count_gt +1)); else count_le=$((count_le +1)); fi; done < data.txt; echo \"r > 100*sqrt(3)/2: $count_gt\"; echo \"r <= 100*sqrt(3)/2: $count_le\"\n",
    "\n",
    "#bc -l è letteralmente una calcolatrice da terminale\n",
    "#da uno strano errore: Parse error: bad expression\n",
    "   # <stdin>:1\n",
    "\n",
    "\n",
    "#Parse error: bad token\n",
    "    #<stdin>:1\n",
    "\n",
    "#per questo l'ho modificato in questo modo, per cui mi legge e prende solo le righe non vuote \n",
    "count_gt=0; count_le=0; soglia=$(echo \"100*sqrt(3)/2\" |bc -l); while read x y z rest; do if [[ -z \"$x\" || -z \"$y\" || -z \"$z\" ]]; then continue; fi; r=$(echo \"sqrt($x*$x+$y*$y+$z*$z)\" | bc -l); if (( $(echo \"$r > $soglia\" | bc -l) )); then count_gt=$((count_gt +1)); else count_le=$((count_le +1)); fi; done < data.txt; echo \"r > 100*sqrt(3)/2: $count_gt\"; echo \"r <= 100*sqrt(3)/2: $count_le\"\n"
   ]
  },
  {
   "cell_type": "markdown",
   "id": "e937ef4e",
   "metadata": {},
   "source": [
    "2\\.d Make `n` copies of data.txt (with `n` an input parameter of the script), where the i-th copy has all the numbers divided by i (with `1<=i<=n`)."
   ]
  },
  {
   "cell_type": "code",
   "execution_count": null,
   "id": "8ad86778-d0c6-4b86-b575-ee3239d60b2f",
   "metadata": {},
   "outputs": [],
   "source": [
    "n=1\n",
    "for ((i=1; i<=n; i++));\n",
    "do outfile=\"copy_${i}.txt\";\n",
    "> \"$outfile\";\n",
    "while read -r line; do\n",
    "result=\"\";\n",
    "for num in $line; do\n",
    "divnum=$(echo \"$num / $i\" | bc -l);\n",
    "result=\"$result $divnum\";\n",
    "done;\n",
    "echo \"$result\">>\"$outfile\";\n",
    "done < data.txt;\n",
    "done;\n",
    "echo \"Created $n copies of data.txt, each divided by 1..$n\"\n",
    "\n",
    "#la prima riga è un ciclo numerico per cui, inizializza i= 1, continua finche i non è minore di n, e incrementa di 1 dopo ogni ciclo i++, equivalenge a i=i+1\n",
    "#while read -r legge riga per riga il file data.txt, -r serve per leggere le righe letteralmente, senza interpretare \\\n",
    "#DEVI STARE SU \"BASH\" scrivi su terminale semplicemente bash e andrà, se vuoi uscire fai exit \n"
   ]
  }
 ],
 "metadata": {
  "kernelspec": {
   "display_name": "Python [conda env:base] *",
   "language": "python",
   "name": "conda-base-py"
  },
  "language_info": {
   "codemirror_mode": {
    "name": "ipython",
    "version": 3
   },
   "file_extension": ".py",
   "mimetype": "text/x-python",
   "name": "python",
   "nbconvert_exporter": "python",
   "pygments_lexer": "ipython3",
   "version": "3.13.5"
  }
 },
 "nbformat": 4,
 "nbformat_minor": 5
}
