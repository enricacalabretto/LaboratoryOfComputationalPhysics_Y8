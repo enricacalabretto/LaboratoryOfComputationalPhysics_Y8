{
 "cells": [
  {
   "cell_type": "markdown",
   "metadata": {},
   "source": [
    "1\\. Write a function that converts number representation, bin<->dec<->hex. (Clearly using the corresponding python built-in functions is not fair..)"
   ]
  },
  {
   "cell_type": "code",
   "execution_count": 6,
   "metadata": {},
   "outputs": [
    {
     "name": "stdout",
     "output_type": "stream",
     "text": [
      "11\n",
      "B\n",
      "11111111\n",
      "FF\n",
      "42\n",
      "101010\n",
      "0\n"
     ]
    }
   ],
   "source": [
    "def convert(num, from_base, to_base):\n",
    "    digits='0123456789ABCDEF'\n",
    "    num= num.upper()\n",
    "    if from_base == \"dec\":\n",
    "        dec= int(num)\n",
    "    elif from_base == \"bin\":\n",
    "        dec=0\n",
    "        for i, bit in enumerate(num[::-1]):\n",
    "            if bit not in '01':\n",
    "                raise ValueError(f'Carattere non valido nel binario:{bit}')\n",
    "            dec+= int(bit) *(2**i)\n",
    "    elif from_base=='hex':\n",
    "        dec=0\n",
    "        for i, ch in enumerate(num[::-1]):\n",
    "            if ch not in digits:\n",
    "                raise ValueError(f\"Carattere non valido nell'esadecimale: {ch}\")\n",
    "            dec+=digits.index(ch)* (16**i) #digits.index converte la lettera in un valore numerico \n",
    "    else:\n",
    "        raise ErrorValue('base di partenza non valida')\n",
    "\n",
    "    if to_base =='dec':\n",
    "        return ( str(dec))\n",
    "    base=2 if to_base == 'bin' else 16\n",
    "    if dec==0:\n",
    "        return '0'\n",
    "\n",
    "    converted = ''\n",
    "    while dec >0 :\n",
    "        converted = digits [dec % base] + converted \n",
    "        dec //= base \n",
    "    return converted\n",
    "  \n",
    "print(convert(\"1011\", \"bin\", \"dec\"))  # → 11\n",
    "print(convert(\"1011\", \"bin\", \"hex\"))  # → B\n",
    "print(convert(\"255\", \"dec\", \"bin\"))   # → 11111111\n",
    "print(convert(\"255\", \"dec\", \"hex\"))   # → FF\n",
    "print(convert(\"2A\", \"hex\", \"dec\"))    # → 42\n",
    "print(convert(\"2A\", \"hex\", \"bin\"))    # → 101010\n",
    "print(convert(\"0\", \"dec\", \"hex\"))     # → 0\n",
    "\n",
    "        "
   ]
  },
  {
   "cell_type": "markdown",
   "metadata": {},
   "source": [
    "2\\. Write a function that converts a 32 bit word into a single precision floating point (i.e. interprets the various bits as sign, mantissa and exponent)"
   ]
  },
  {
   "cell_type": "code",
   "execution_count": 11,
   "metadata": {},
   "outputs": [
    {
     "name": "stdout",
     "output_type": "stream",
     "text": [
      "1.0\n"
     ]
    }
   ],
   "source": [
    "def float_from32bit(word):\n",
    "    if len(word) != 32:\n",
    "        raise ValueError( 'La parola deve essere lunga 32 bit') \n",
    "    sign = int( word[0])\n",
    "    s= (-1) ** sign \n",
    "\n",
    "    exponent_bits = word [1:9]\n",
    "    exponent = 0\n",
    "    for i, bit in enumerate(exponent_bits[::-1]):\n",
    "        exponent += int(bit) * (2**i)\n",
    "    exponent -=127 #bias\n",
    "\n",
    "    mantissa_bits= word[9:]\n",
    "    mantissa=1\n",
    "    for i, bir in enumerate(mantissa_bits):\n",
    "        mantissa +=int(bit) * (2** -(i+1))\n",
    "\n",
    "    return s* mantissa * ( 2** exponent) \n",
    "\n",
    "word = '00111111100000000000000000000000'\n",
    "print(float_from32bit(word)) #-> 1.0 "
   ]
  },
  {
   "cell_type": "markdown",
   "metadata": {},
   "source": [
    "3\\. Write a program to determine the underflow and overflow limits (within a factor of 2) for python on your computer. \n",
    "\n",
    "**Tips**: define two variables inizialized to 1 and halve/double them enough time to exceed the under/over-flow limits  "
   ]
  },
  {
   "cell_type": "code",
   "execution_count": 15,
   "metadata": {},
   "outputs": [
    {
     "name": "stdout",
     "output_type": "stream",
     "text": [
      "overflow limit(approx):8.98846567431158e+307\n",
      "underflow limit( approx):5e-324\n"
     ]
    }
   ],
   "source": [
    "#overflow\n",
    "x = 1.0 \n",
    "while x != float('inf'):\n",
    "    last_x=x\n",
    "    x*=2\n",
    "print ( f'overflow limit(approx):{last_x}')\n",
    "\n",
    "#underflow\n",
    "y= 1.0\n",
    "while y != 0.0:\n",
    "    last_y= y \n",
    "    y/=2\n",
    "print( f'underflow limit( approx):{last_y}')"
   ]
  },
  {
   "cell_type": "markdown",
   "metadata": {},
   "source": [
    "4\\. Write a program to determine the machine precision\n",
    "\n",
    "**Tips**: define a new variable by adding a smaller and smaller value (proceeding similarly to prob. 2) to an original variable and check the point where the two are the same "
   ]
  },
  {
   "cell_type": "code",
   "execution_count": 16,
   "metadata": {},
   "outputs": [
    {
     "name": "stdout",
     "output_type": "stream",
     "text": [
      "machine precision: 2.220446049250313e-16\n"
     ]
    }
   ],
   "source": [
    "var = 1.0 \n",
    "while True:\n",
    "    test= 1.0 +var\n",
    "    if test == 1.0: #se il risultato non cambia abbiamo superato la precisione macchina  \n",
    "        break \n",
    "    var /=2 #riduciamo variable di metà per avvicinarsi sempre di piu al limite \n",
    "\n",
    "machine_variable= var*2  #alla fine questo valore è l'ultimo che ha ancora effetto su 1.0 \n",
    "print('machine precision:', machine_variable)"
   ]
  },
  {
   "cell_type": "markdown",
   "metadata": {},
   "source": [
    "5\\. Write a function that takes in input three parameters $a$, $b$ and $c$ and prints out the two solutions to the quadratic equation $ax^2+bx+c=0$ using the standard formula:\n",
    "$$\n",
    "x=\\frac{-b\\pm\\sqrt{b^2-4ac}}{2a}\n",
    "$$\n",
    "\n",
    "(a) use the program to compute the solution for $a=0.001$, $b=1000$ and $c=0.001$\n",
    "\n",
    "(b) re-express the standard solution formula by multiplying top and bottom by $-b\\mp\\sqrt{b^2-4ac}$ and again find the solution for $a=0.001$, $b=1000$ and $c=0.001$. How does it compare with what previously obtained? Why?\n",
    "\n",
    "(c) write a function that compute the roots of a quadratic equation accurately in all cases"
   ]
  },
  {
   "cell_type": "code",
   "execution_count": 17,
   "metadata": {},
   "outputs": [
    {
     "data": {
      "text/plain": [
       "(np.float64(-9.999894245993346e-07), np.float64(-999999.999999))"
      ]
     },
     "execution_count": 17,
     "metadata": {},
     "output_type": "execute_result"
    }
   ],
   "source": [
    "#a)\n",
    "import numpy as np \n",
    "\n",
    "def function( a, b ,c ):\n",
    "    x1= (-b + np.sqrt( b**2 - 4*a*c))/(2*a)\n",
    "    x2= (-b - np.sqrt( b**2 - 4*a*c))/(2*a)\n",
    "    return x1, x2\n",
    "function(0.001, 1000, 0.001)"
   ]
  },
  {
   "cell_type": "code",
   "execution_count": 1,
   "metadata": {},
   "outputs": [
    {
     "data": {
      "text/plain": [
       "(np.float64(-1.000000000001e-06), np.float64(-1000010.5755125057))"
      ]
     },
     "execution_count": 1,
     "metadata": {},
     "output_type": "execute_result"
    }
   ],
   "source": [
    "#b)\n",
    "import numpy as np \n",
    "\n",
    "def function( a, b ,c ):\n",
    "    x1= (-2* c)/(b+ np.sqrt(b**2 - 4 *a*c))\n",
    "    x2= (-2* c)/(b- np.sqrt(b**2 - 4 *a*c))\n",
    "    return x1, x2\n",
    "function(0.001, 1000, 0.001)\n",
    "\n",
    "#Using the standard formula (part a), the smaller root (x1) \n",
    "#is inaccurate or even zero, while the larger root (x2) is correct.\n",
    "#This happens due to catastrophic cancellation, because \n",
    "#-b + sqrt(b² - 4ac) subtracts two nearly equal large numbers.\n",
    "#Using the rewritten formula (part b), both roots are calculated correctly."
   ]
  },
  {
   "cell_type": "code",
   "execution_count": 2,
   "metadata": {},
   "outputs": [
    {
     "data": {
      "text/plain": [
       "(np.float64(-1.000000000001e-06), np.float64(-999999.999999))"
      ]
     },
     "execution_count": 2,
     "metadata": {},
     "output_type": "execute_result"
    }
   ],
   "source": [
    "#c)\n",
    "import numpy as np \n",
    "\n",
    "def quadratic(a, b , c):\n",
    "    D= b**2 - 4*a*c\n",
    "    if b>=0:\n",
    "        x2= (-b -np.sqrt(D))/(2*a)\n",
    "        x1= (2*c)/(-b -np.sqrt(D))\n",
    "    else:\n",
    "        x2= (-b +np.sqrtD)/(2*a)\n",
    "        x1= (2*c)/(-b +np.sqrt(D))\n",
    "    return x1, x2\n",
    "\n",
    "quadratic( 0.001, 1000, 0.001) "
   ]
  },
  {
   "cell_type": "markdown",
   "metadata": {},
   "source": [
    "6\\. Write a program that implements the function $f(x)=x(x−1)$\n",
    "\n",
    "(a) Calculate the derivative of the function at the point $x = 1$ using the derivative definition:\n",
    "\n",
    "$$\n",
    "\\frac{{\\rm d}f}{{\\rm d}x} = \\lim_{\\delta\\to0} \\frac{f(x+\\delta)-f(x)}{\\delta}\n",
    "$$\n",
    "\n",
    "with $\\delta = 10^{−2}$. Calculate the true value of the same derivative analytically and compare with the answer your program gives. The two will not agree perfectly. Why not?\n",
    "\n",
    "(b) Repeat the calculation for $\\delta = 10^{−4}, 10^{−6}, 10^{−8}, 10^{−10}, 10^{−12}$ and $10^{−14}$. How does the accuracy scales with $\\delta$?"
   ]
  },
  {
   "cell_type": "code",
   "execution_count": 23,
   "metadata": {},
   "outputs": [
    {
     "data": {
      "text/plain": [
       "1.010000000000001"
      ]
     },
     "execution_count": 23,
     "metadata": {},
     "output_type": "execute_result"
    }
   ],
   "source": [
    "#a)\n",
    "def f(x):\n",
    "    return x*(x-1)\n",
    "\n",
    "def derivative ( delta):\n",
    "    der= ( f(1+delta) - f(1))/ delta \n",
    "    return der\n",
    "    \n",
    "derivative(10**(-2))\n",
    "#analiticamente viene fuori 1.01, questo perche python usa float a\n",
    "#doppia precisione ( 64 bit) , numeri come 0.01 ed 1.01 non \n",
    "#sono rappresentati esattamente, inducendo un piccolo errore aggiuntivo\n",
    "#(errore di floating point) "
   ]
  },
  {
   "cell_type": "code",
   "execution_count": 26,
   "metadata": {},
   "outputs": [
    {
     "name": "stdout",
     "output_type": "stream",
     "text": [
      " for delta=10^-4 :1.0000999999998899\n",
      " for delta=10^-6 :1.0000009999177333\n",
      " for delta=10^-8 :1.0000000039225287\n",
      " for delta=10^(-10) :1.000000082840371\n",
      " for delta=10^(-12) :1.0000889005833413\n",
      " for delta=10^(-14) :0.9992007221626509\n"
     ]
    }
   ],
   "source": [
    "#b)\n",
    "def f(x):\n",
    "    return x*(x-1)\n",
    "\n",
    "def derivative ( delta):\n",
    "    der= ( f(1+delta) - f(1))/ delta \n",
    "    return der\n",
    "\n",
    "print ( f' for delta=10^-4 :{derivative(10**(-4))}')\n",
    "print ( f' for delta=10^-6 :{derivative(10**(-6))}')\n",
    "print ( f' for delta=10^-8 :{derivative(10**(-8))}')\n",
    "print ( f' for delta=10^(-10) :{derivative(10**(-10))}')\n",
    "print ( f' for delta=10^(-12) :{derivative(10**(-12))}')\n",
    "print ( f' for delta=10^(-14) :{derivative(10**(-14))}')\n",
    "\n",
    "#Man mano che il valore di \\delta diminuisce, l’approssimazione \n",
    "#numerica della derivata migliora inizialmente, avvicinandosi al \n",
    "#valore analitico. Questo accade perché la definizione di derivata\n",
    "#è valida nel limite \\delta \\to 0, quindi valori più piccoli di \n",
    "#\\delta riducono l’errore di discretizzazione. Tuttavia, quando \n",
    "#\\delta diventa troppo piccolo, l’accuratezza inizia a peggiorare \n",
    "#a causa degli errori di rappresentazione dei numeri in macchina \n",
    "#(floating point). In questo caso, la differenza tra f(1+\\delta)\n",
    "#e f(1) coinvolge due numeri molto simili, e la sottrazione numerica\n",
    "#amplifica l’errore di arrotondamento. Di conseguenza, l’errore \n",
    "#totale mostra un comportamento “a U”: migliora al diminuire di\n",
    "#\\delta fino a un certo punto, per poi aumentare di nuovo quando \n",
    "#\\delta diventa troppo piccolo."
   ]
  },
  {
   "cell_type": "markdown",
   "metadata": {},
   "source": [
    "7\\. Consider the integral of the semicircle of radius 1:\n",
    "$$\n",
    "I=\\int_{-1}^{1} \\sqrt(1-x^2) {\\rm d}x\n",
    "$$\n",
    "which it's known to be $I=\\frac{\\pi}{2}=1.57079632679...$.\n",
    "Alternatively we can use the Riemann definition of the integral:\n",
    "$$\n",
    "I=\\lim_{N\\to\\infty} \\sum_{k=1}^{N} h y_k \n",
    "$$\n",
    "\n",
    "with $h=2/N$ the width of each of the $N$ slices the domain is divided into and where\n",
    "$y_k$ is the value of the function at the $k-$th slice.\n",
    "\n",
    "(a) Write a programe to compute the integral with $N=100$. How does the result compares to the true value?\n",
    "\n",
    "(b) How much can $N$ be increased if the computation needs to be run in less than a second? What is the gain in running it for 1 minute? \n"
   ]
  },
  {
   "cell_type": "code",
   "execution_count": 27,
   "metadata": {},
   "outputs": [
    {
     "name": "stdout",
     "output_type": "stream",
     "text": [
      "Approximate integral with N=100: 1.5712827762297956\n",
      "True value (π/2): 1.5707963267948966\n",
      "Error: 0.0004864494348990611\n"
     ]
    }
   ],
   "source": [
    "#a) \n",
    "import numpy as np\n",
    "\n",
    "N = 100\n",
    "h = 2 / N\n",
    "x = np.linspace(-1 + h/2, 1 - h/2, N)  # aggiungi un piccolo h/2 per non perdere precisione, altrimenti avresti in y = 1-1, perche i limiti sono quelli \n",
    "y = np.sqrt(1 - x**2)\n",
    "I_approx = np.sum(y * h)\n",
    "\n",
    "print(\"Approximate integral with N=100:\", I_approx)\n",
    "print(\"True value (π/2):\", np.pi / 2)\n",
    "print(\"Error:\", np.abs(I_approx - np.pi/2))\n",
    "\n",
    "#b) da finire \n",
    "\n"
   ]
  },
  {
   "cell_type": "code",
   "execution_count": null,
   "metadata": {},
   "outputs": [],
   "source": []
  }
 ],
 "metadata": {
  "kernelspec": {
   "display_name": "Python [conda env:base] *",
   "language": "python",
   "name": "conda-base-py"
  },
  "language_info": {
   "codemirror_mode": {
    "name": "ipython",
    "version": 3
   },
   "file_extension": ".py",
   "mimetype": "text/x-python",
   "name": "python",
   "nbconvert_exporter": "python",
   "pygments_lexer": "ipython3",
   "version": "3.13.5"
  }
 },
 "nbformat": 4,
 "nbformat_minor": 4
}
